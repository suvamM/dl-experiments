{
 "cells": [
  {
   "cell_type": "code",
   "execution_count": 1,
   "metadata": {},
   "outputs": [
    {
     "name": "stdout",
     "output_type": "stream",
     "text": [
      "Downloading data from https://storage.googleapis.com/tensorflow/tf-keras-datasets/mnist.npz\n",
      "11490434/11490434 [==============================] - 0s 0us/step\n"
     ]
    }
   ],
   "source": [
    "from tensorflow.keras.datasets import mnist\n",
    "\n",
    "(train_images, train_labels), (test_images, test_labels) = mnist.load_data()"
   ]
  },
  {
   "cell_type": "code",
   "execution_count": 3,
   "metadata": {},
   "outputs": [
    {
     "name": "stdout",
     "output_type": "stream",
     "text": [
      "(90, 28, 28)\n",
      "(60000, 14, 14)\n"
     ]
    }
   ],
   "source": [
    "# data slicing\n",
    "my_slice = train_images[10:100]\n",
    "print(my_slice.shape)\n",
    "\n",
    "my_slice = train_images[:, 14:, 14:]\n",
    "print(my_slice.shape)"
   ]
  },
  {
   "cell_type": "markdown",
   "metadata": {},
   "source": [
    "# Tensor operations\n",
    "\n",
    "## Element-wise operations\n",
    "\n",
    "Operations like `relu` and `+` are element wise operations---apply the operator to each element in the tensor. This opens up parallelization opportunities.\n",
    "\n",
    "This is what we will compare next: a naive sequential implementation vs the optimized concurrent implementation."
   ]
  },
  {
   "cell_type": "code",
   "execution_count": 2,
   "metadata": {},
   "outputs": [
    {
     "name": "stdout",
     "output_type": "stream",
     "text": [
      "NumPy operations took:  0.11495780944824219\n"
     ]
    }
   ],
   "source": [
    "# A naive relu implementation for 2D tensors\n",
    "def naive_relu(x):\n",
    "    assert len(x.shape) == 2\n",
    "\n",
    "    x = x.copy()\n",
    "\n",
    "    for i in range(x.shape[0]):\n",
    "        for j in range(x.shape[1]):\n",
    "            x[i, j] = max(x[i,j], 0)\n",
    "\n",
    "    return x\n",
    "\n",
    "def naive_add(x, y):\n",
    "    assert len(x.shape) == 2\n",
    "    assert x.shape == y.shape\n",
    "\n",
    "    x = x.copy()\n",
    "\n",
    "    for i in range(x.shape[0]):\n",
    "        for j in range(x.shape[1]):\n",
    "            x[i,j] += y[i, j]\n",
    "\n",
    "    return x\n",
    "\n",
    "# NumPy has highly optimized versions of these functions\n",
    "# utilizes low-level BLAS (Basic Linear Algebra Subprograms) library\n",
    "\n",
    "# compare naive_relu with numpy's relu\n",
    "import time\n",
    "import numpy as np\n",
    "\n",
    "x = np.random.random((200, 1000))\n",
    "y = np.random.random((200, 1000))\n",
    "\n",
    "t0 = time.time()\n",
    "\n",
    "for _ in range(100):\n",
    "    z = x + y\n",
    "    z = np.maximum(z, 0)\n",
    "\n",
    "print(\"NumPy operations took: \", time.time() - t0)\n",
    "\n",
    "t0 = time.time()\n",
    "\n",
    "for _ in range(100):\n",
    "    z = naive_add(x, y)\n",
    "    z = naive_relu(z)\n",
    "\n",
    "print(\"Naive implementation took: \", time.time() - t0)"
   ]
  }
 ],
 "metadata": {
  "kernelspec": {
   "display_name": "Python 3",
   "language": "python",
   "name": "python3"
  },
  "language_info": {
   "codemirror_mode": {
    "name": "ipython",
    "version": 3
   },
   "file_extension": ".py",
   "mimetype": "text/x-python",
   "name": "python",
   "nbconvert_exporter": "python",
   "pygments_lexer": "ipython3",
   "version": "3.11.8"
  }
 },
 "nbformat": 4,
 "nbformat_minor": 2
}
